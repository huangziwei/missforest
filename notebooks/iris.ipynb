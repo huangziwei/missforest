{
 "cells": [
  {
   "cell_type": "code",
   "execution_count": 1,
   "metadata": {},
   "outputs": [],
   "source": [
    "import numpy as np\n",
    "import pandas as pd\n",
    "import matplotlib.pyplot as plt\n",
    "\n",
    "from sklearn import datasets, metrics\n",
    "from sklearn.model_selection import train_test_split\n",
    "from sklearn.linear_model import LogisticRegression\n",
    "from missforest import MissForest"
   ]
  },
  {
   "attachments": {},
   "cell_type": "markdown",
   "metadata": {},
   "source": [
    "## Load data"
   ]
  },
  {
   "cell_type": "code",
   "execution_count": 2,
   "metadata": {},
   "outputs": [],
   "source": [
    "iris = datasets.load_iris()\n",
    "df = pd.DataFrame(data= np.c_[iris['data'], iris['target']],\n",
    "                     columns= iris['feature_names'] + ['target'])"
   ]
  },
  {
   "attachments": {},
   "cell_type": "markdown",
   "metadata": {},
   "source": [
    "## Fit Logistic Regression with the complete data set"
   ]
  },
  {
   "cell_type": "code",
   "execution_count": 32,
   "metadata": {},
   "outputs": [
    {
     "name": "stdout",
     "output_type": "stream",
     "text": [
      "Accuracy: 0.9666666666666667\n"
     ]
    }
   ],
   "source": [
    "X = df.drop('target', axis=1).values\n",
    "y = df['target'].values\n",
    "\n",
    "X_train, X_test, y_train, y_test = train_test_split(X, y, test_size=0.2)\n",
    "\n",
    "logreg = LogisticRegression(penalty='l1', solver='liblinear', multi_class='ovr', random_state=1)\n",
    "logreg.fit(X_train, y_train)\n",
    "y_pred=logreg.predict(X_test)\n",
    "print(\"Accuracy:\", metrics.accuracy_score(y_test, y_pred))"
   ]
  },
  {
   "attachments": {},
   "cell_type": "markdown",
   "metadata": {},
   "source": [
    "## Missing Completely at Random (MCAR)"
   ]
  },
  {
   "cell_type": "code",
   "execution_count": 52,
   "metadata": {},
   "outputs": [],
   "source": [
    "missing_proportion = 0.1\n",
    "\n",
    "df_train_complete, df_test_compuete = train_test_split(df, test_size=0.2, random_state=1)\n",
    "\n",
    "df_train_mcar = df_train_complete.copy()\n",
    "df_test_mcar = df_test_compuete.copy()\n",
    "\n",
    "for col in df_train_complete.columns[:-1]:\n",
    "    df_train_mcar.loc[df_train_complete.sample(frac=missing_proportion).index, col] = np.nan\n",
    "\n",
    "for col in df_test_mcar.columns[:-1]:\n",
    "    df_test_mcar.loc[df_test_mcar.sample(frac=missing_proportion).index, col] = np.nan"
   ]
  },
  {
   "cell_type": "code",
   "execution_count": 53,
   "metadata": {},
   "outputs": [],
   "source": [
    "mf_mcar = MissForest()\n",
    "mf_mcar.fit(df_train_mcar.drop('target', axis=1))"
   ]
  },
  {
   "cell_type": "code",
   "execution_count": 54,
   "metadata": {},
   "outputs": [],
   "source": [
    "dfs_train_mcar_imputed = mf_mcar.transform(df_train_mcar.drop('target', axis=1))\n",
    "dfs_test_mcar_imputed = mf_mcar.transform(df_test_mcar.drop('target', axis=1))"
   ]
  },
  {
   "cell_type": "code",
   "execution_count": 63,
   "metadata": {},
   "outputs": [
    {
     "name": "stdout",
     "output_type": "stream",
     "text": [
      "0: MSE 0.009832852635263139\n",
      "1: MSE 0.010552756141628893\n",
      "2: MSE 0.009885863595698704\n",
      "3: MSE 0.010252217782986135\n",
      "4: MSE 0.010568395078561998\n",
      "5: MSE 0.009723132536024326\n",
      "6: MSE 0.00976471304629631\n",
      "7: MSE 0.009945531946180563\n",
      "8: MSE 0.009561384403380125\n",
      "9: MSE 0.009640346654667441\n"
     ]
    }
   ],
   "source": [
    "for i, df_train_mcar_imputed in enumerate(dfs_train_mcar_imputed):\n",
    "    print(f\"{i}: MSE\", metrics.mean_squared_error(df_train_mcar_imputed.values, df_train_complete.drop('target', axis=1).values))"
   ]
  },
  {
   "cell_type": "code",
   "execution_count": 81,
   "metadata": {},
   "outputs": [
    {
     "name": "stdout",
     "output_type": "stream",
     "text": [
      "0: MSE 0.00983, ACC 0.86667\n",
      "1: MSE 0.01055, ACC 0.86667\n",
      "2: MSE 0.00989, ACC 0.86667\n",
      "3: MSE 0.01025, ACC 0.86667\n",
      "4: MSE 0.01057, ACC 0.86667\n",
      "5: MSE 0.00972, ACC 0.86667\n",
      "6: MSE 0.00976, ACC 0.86667\n",
      "7: MSE 0.00995, ACC 0.86667\n",
      "8: MSE 0.00956, ACC 0.86667\n",
      "9: MSE 0.00964, ACC 0.86667\n",
      "0: ACC 0.86667\n",
      "1: ACC 0.86667\n",
      "2: ACC 0.86667\n",
      "3: ACC 0.86667\n",
      "4: ACC 0.86667\n",
      "5: ACC 0.86667\n",
      "6: ACC 0.86667\n",
      "7: ACC 0.86667\n",
      "8: ACC 0.86667\n",
      "9: ACC 0.86667\n"
     ]
    }
   ],
   "source": [
    "X_train_complete = df_train_complete.drop('target', axis=1).values\n",
    "coefs = []\n",
    "for i, (df_train_mcar_imputed, df_test_mcar_imputed) in enumerate(zip(dfs_train_mcar_imputed, dfs_test_mcar_imputed)):\n",
    "    \n",
    "    X_train_mcar = df_train_mcar_imputed.values\n",
    "    y_train_mcar = df_train_mcar['target'].values\n",
    "\n",
    "    X_test_mcar = df_test_mcar_imputed.values\n",
    "    y_test_mcar = df_test_mcar['target'].values\n",
    "\n",
    "    logreg = LogisticRegression(penalty='l1', solver='liblinear', multi_class='ovr', random_state=1)\n",
    "    logreg.fit(X_train_mcar, y_train_mcar)\n",
    "\n",
    "    coefs.append(logreg.coef_)\n",
    "    y_pred_mcar=logreg.predict(X_test_mcar)\n",
    "\n",
    "    print(f\"{i}: MSE {metrics.mean_squared_error(X_train_mcar, X_train_complete):.05f}, ACC {metrics.accuracy_score(y_test_mcar, y_pred_mcar):.05f}\")\n",
    "\n",
    "    plt.imshow(logreg.)\n",
    "\n",
    "from copy import deepcopy\n",
    "logreg_mean = deepcopy(logreg)\n",
    "logreg_mean.coef_ = np.array(coefs).mean(axis=0)\n",
    "\n",
    "for i, df_test_mcar_imputed in enumerate(dfs_test_mcar_imputed):\n",
    "    X_test_mcar = df_test_mcar_imputed.values\n",
    "    y_test_mcar = df_test_mcar['target'].values\n",
    "\n",
    "    y_pred_mcar = logreg_mean.predict(X_test_mcar)\n",
    "\n",
    "    print(f\"{i}: ACC {metrics.accuracy_score(y_test_mcar, y_pred_mcar):.05f}\")\n"
   ]
  },
  {
   "cell_type": "code",
   "execution_count": 69,
   "metadata": {},
   "outputs": [
    {
     "data": {
      "text/plain": [
       "array([[ 0.        ,  0.        ,  0.        ,  0.        ],\n",
       "       [-0.523     ,  0.134     ,  0.        ,  0.        ],\n",
       "       [ 0.        , -0.00307143,  0.        ,  0.        ],\n",
       "       [ 0.        ,  0.        ,  0.        ,  0.        ],\n",
       "       [ 0.094     ,  0.        ,  0.        ,  0.        ],\n",
       "       [ 0.        ,  0.        ,  0.        ,  0.        ],\n",
       "       [ 0.        ,  0.        ,  0.        ,  0.        ],\n",
       "       [ 0.        ,  0.        ,  0.        ,  0.        ],\n",
       "       [ 0.        ,  0.        ,  0.        ,  0.        ],\n",
       "       [ 0.        ,  0.        ,  0.        ,  0.        ],\n",
       "       [ 0.        ,  0.        ,  0.        ,  0.        ],\n",
       "       [ 0.        ,  0.        ,  0.        ,  0.        ],\n",
       "       [ 0.        ,  0.        ,  0.        ,  0.        ],\n",
       "       [ 0.        , -0.138     ,  0.        ,  0.        ],\n",
       "       [ 0.        ,  0.        ,  0.        ,  0.        ],\n",
       "       [ 0.        ,  0.        ,  0.        ,  0.        ],\n",
       "       [ 0.        ,  0.        , -0.011     ,  0.        ],\n",
       "       [ 0.066     ,  0.        ,  0.        ,  0.        ],\n",
       "       [ 0.        ,  0.        ,  0.        ,  0.        ],\n",
       "       [ 0.        , -0.11056667,  0.        ,  0.        ],\n",
       "       [-0.053     ,  0.        ,  0.        ,  0.        ],\n",
       "       [ 0.        ,  0.        ,  0.        ,  0.        ],\n",
       "       [ 0.        ,  0.        ,  0.        ,  0.        ],\n",
       "       [ 0.        ,  0.        ,  0.        ,  0.108     ],\n",
       "       [ 0.        ,  0.        ,  0.        ,  0.        ],\n",
       "       [ 0.219     ,  0.282     ,  0.        ,  0.        ],\n",
       "       [ 0.        ,  0.        ,  0.        , -0.008     ],\n",
       "       [ 0.        ,  0.        ,  0.        ,  0.        ],\n",
       "       [ 0.        ,  0.        ,  0.        ,  0.        ],\n",
       "       [ 0.        ,  0.        ,  0.        ,  0.        ],\n",
       "       [ 0.        ,  0.        ,  0.119     ,  0.        ],\n",
       "       [ 0.        ,  0.        ,  0.        ,  0.        ],\n",
       "       [ 0.        ,  0.        ,  0.        ,  0.        ],\n",
       "       [ 0.        ,  0.        ,  0.        ,  0.        ],\n",
       "       [ 0.        ,  0.        ,  0.        ,  0.        ],\n",
       "       [ 0.        ,  0.        ,  0.        ,  0.        ],\n",
       "       [ 0.        ,  0.        ,  0.        ,  0.        ],\n",
       "       [ 0.        ,  0.        ,  0.        ,  0.        ],\n",
       "       [ 0.        ,  0.        ,  0.        ,  0.        ],\n",
       "       [ 0.        ,  0.        ,  0.        ,  0.        ],\n",
       "       [ 0.        ,  0.        , -0.47      ,  0.        ],\n",
       "       [ 0.        ,  0.        ,  0.        ,  0.        ],\n",
       "       [ 0.        ,  0.        ,  0.        ,  0.        ],\n",
       "       [ 0.        ,  0.        ,  0.        ,  0.        ],\n",
       "       [ 0.        ,  0.        ,  0.        ,  0.        ],\n",
       "       [ 0.        , -0.216     ,  0.        ,  0.        ],\n",
       "       [ 0.        ,  0.        ,  0.        ,  0.        ],\n",
       "       [ 0.64      ,  0.        ,  0.        ,  0.049     ],\n",
       "       [ 0.577     ,  0.        ,  0.        ,  0.        ],\n",
       "       [ 0.        ,  0.        ,  0.        ,  0.        ],\n",
       "       [ 0.        , -0.119     ,  0.        ,  0.        ],\n",
       "       [ 0.        ,  0.        ,  0.        ,  0.        ],\n",
       "       [ 0.        ,  0.        ,  0.        ,  0.        ],\n",
       "       [ 0.        ,  0.        ,  0.        ,  0.        ],\n",
       "       [ 0.        ,  0.        ,  0.        ,  0.        ],\n",
       "       [ 0.        ,  0.        ,  0.        ,  0.        ],\n",
       "       [ 0.        ,  0.        ,  0.        ,  0.        ],\n",
       "       [ 0.        ,  0.        ,  0.        ,  0.        ],\n",
       "       [-0.076     ,  0.        ,  0.        ,  0.        ],\n",
       "       [ 0.        ,  0.        ,  0.        , -0.23516667],\n",
       "       [ 0.        ,  0.        ,  0.        ,  0.        ],\n",
       "       [ 0.        ,  0.        ,  0.        ,  0.        ],\n",
       "       [ 0.        ,  0.        ,  0.        ,  0.        ],\n",
       "       [ 0.        ,  0.        ,  0.        ,  0.094     ],\n",
       "       [ 0.        ,  0.        ,  0.        , -0.009     ],\n",
       "       [ 0.        ,  0.        ,  0.        ,  0.        ],\n",
       "       [ 0.        ,  0.        , -0.175     ,  0.        ],\n",
       "       [ 0.        ,  0.        ,  0.        ,  0.        ],\n",
       "       [ 0.        ,  0.        ,  0.221     ,  0.        ],\n",
       "       [ 0.        , -0.36169048,  0.        ,  0.        ],\n",
       "       [ 0.        , -0.93      ,  0.        ,  0.        ],\n",
       "       [ 0.        ,  0.        ,  0.        ,  0.        ],\n",
       "       [ 0.        ,  0.        ,  0.        ,  0.        ],\n",
       "       [ 0.        ,  0.        , -0.087     ,  0.        ],\n",
       "       [ 0.        ,  0.        ,  0.        ,  0.        ],\n",
       "       [ 0.        ,  0.        ,  0.        ,  0.        ],\n",
       "       [ 0.        ,  0.        , -0.12      ,  0.        ],\n",
       "       [ 0.        ,  0.        , -0.085     ,  0.        ],\n",
       "       [ 0.        ,  0.        ,  0.        ,  0.        ],\n",
       "       [ 0.        ,  0.        ,  0.        ,  0.        ],\n",
       "       [ 0.        ,  0.        ,  0.        ,  0.        ],\n",
       "       [ 0.        ,  0.        ,  0.        ,  0.        ],\n",
       "       [ 0.        ,  0.        ,  0.        ,  0.02666667],\n",
       "       [ 0.        ,  0.        ,  0.        ,  0.        ],\n",
       "       [ 0.        ,  0.        ,  0.        ,  0.        ],\n",
       "       [ 0.        ,  0.        ,  0.        ,  0.        ],\n",
       "       [ 0.        ,  0.        ,  0.        ,  0.        ],\n",
       "       [ 0.        ,  0.        ,  0.        ,  0.        ],\n",
       "       [ 0.        ,  0.        ,  0.        ,  0.        ],\n",
       "       [ 0.        ,  0.        ,  0.        ,  0.        ],\n",
       "       [ 0.        ,  0.        ,  0.        ,  0.        ],\n",
       "       [ 0.        ,  0.        ,  0.202     ,  0.        ],\n",
       "       [ 0.        ,  0.        ,  0.        ,  0.        ],\n",
       "       [ 0.229     ,  0.        ,  0.        , -0.13      ],\n",
       "       [ 0.        ,  0.        ,  0.        ,  0.        ],\n",
       "       [ 0.        ,  0.        ,  0.        ,  0.        ],\n",
       "       [ 0.        ,  0.        ,  0.        , -0.0365    ],\n",
       "       [ 0.032     ,  0.        ,  0.        ,  0.        ],\n",
       "       [-0.2325    ,  0.        ,  0.        ,  0.        ],\n",
       "       [ 0.        ,  0.139     ,  0.243     ,  0.        ],\n",
       "       [ 0.        ,  0.        ,  0.        ,  0.        ],\n",
       "       [ 0.        ,  0.        ,  0.        ,  0.        ],\n",
       "       [ 0.        ,  0.        , -0.134     ,  0.        ],\n",
       "       [ 0.        ,  0.        ,  0.        ,  0.        ],\n",
       "       [ 0.        ,  0.        ,  0.        , -0.067     ],\n",
       "       [ 0.        ,  0.        ,  0.        ,  0.        ],\n",
       "       [ 0.        ,  0.        ,  0.        ,  0.        ],\n",
       "       [ 0.        ,  0.        ,  0.        ,  0.        ],\n",
       "       [ 0.        ,  0.        ,  0.        ,  0.        ],\n",
       "       [ 0.        ,  0.        ,  0.        ,  0.        ],\n",
       "       [ 0.        ,  0.        ,  0.        ,  0.        ],\n",
       "       [ 0.        ,  0.        ,  0.        ,  0.509     ],\n",
       "       [ 0.        ,  0.        ,  0.        ,  0.        ],\n",
       "       [-0.637     ,  0.        ,  0.        ,  0.        ],\n",
       "       [ 0.        ,  0.        ,  0.        ,  0.        ],\n",
       "       [ 0.        ,  0.        , -0.929     , -0.144     ],\n",
       "       [ 0.        , -0.322     ,  0.        ,  0.        ],\n",
       "       [ 0.        ,  0.117     ,  0.        ,  0.        ],\n",
       "       [ 0.        ,  0.        ,  0.        ,  0.        ],\n",
       "       [ 0.        ,  0.        ,  0.        ,  0.        ]])"
      ]
     },
     "execution_count": 69,
     "metadata": {},
     "output_type": "execute_result"
    }
   ],
   "source": [
    "df_train_mcar_imputed.values - df_train.drop('target', axis=1).values"
   ]
  },
  {
   "cell_type": "code",
   "execution_count": 36,
   "metadata": {},
   "outputs": [
    {
     "data": {
      "text/plain": [
       "array([2., 0., 2., 0., 0., 2., 1., 1., 1., 1., 1., 1., 0., 1., 1., 1., 0.,\n",
       "       2., 0., 0., 0., 2., 0., 2., 0., 0., 1., 1., 2., 0., 0., 0., 1., 0.,\n",
       "       2., 2., 1., 1., 0., 0., 1., 1., 1., 0., 2., 2., 2., 2., 1., 0., 2.,\n",
       "       2., 1., 2., 2., 1., 1., 0., 2., 0., 1., 1., 0., 0., 2., 2., 2., 2.,\n",
       "       2., 0., 2., 1., 2., 2., 0., 2., 1., 1., 1., 2., 0., 2., 0., 0., 2.,\n",
       "       2., 1., 0., 1., 1., 0., 1., 2., 0., 1., 2., 2., 1., 1., 0., 0., 0.,\n",
       "       1., 2., 1., 1., 1., 2., 0., 0., 2., 0., 0., 0., 1., 0., 2., 1., 1.,\n",
       "       0.])"
      ]
     },
     "execution_count": 36,
     "metadata": {},
     "output_type": "execute_result"
    }
   ],
   "source": [
    "y_train"
   ]
  },
  {
   "cell_type": "code",
   "execution_count": 37,
   "metadata": {},
   "outputs": [
    {
     "data": {
      "text/plain": [
       "array([0.  , 0.49, 1.  , 1.  , 1.  , 1.  , 2.  , 0.  , 2.  , 1.  , 1.  ,\n",
       "       2.  , 0.  , 2.  , 2.  , 0.  , 2.  , 1.  , 2.  , 1.  , 0.  , 2.  ,\n",
       "       0.  , 1.  , 0.  , 1.99, 1.  , 0.  , 0.  , 1.  , 0.  , 1.  , 2.  ,\n",
       "       2.  , 0.  , 2.  , 2.  , 2.  , 0.  , 1.  , 1.  , 0.  , 0.  , 1.  ,\n",
       "       2.  , 1.  , 0.  , 2.  , 1.  , 2.  , 1.  , 1.  , 0.  , 1.  , 1.  ,\n",
       "       0.  , 1.  , 2.  , 1.  , 0.  , 2.  , 2.  , 1.  , 0.  , 2.  , 2.  ,\n",
       "       2.  , 2.  , 2.  , 2.  , 1.  , 0.  , 2.  , 0.  , 0.  , 2.  , 1.  ,\n",
       "       0.  , 1.  , 1.  , 0.  , 0.  , 2.  , 0.  , 1.  , 2.  , 1.  , 1.  ,\n",
       "       1.74, 1.  , 0.  , 2.  , 1.  , 0.  , 0.  , 0.  , 0.  , 0.  , 0.  ,\n",
       "       2.  , 0.  , 2.  , 1.  , 0.  , 1.  , 0.  , 2.  , 2.  , 0.  , 2.  ,\n",
       "       1.  , 1.  , 0.  , 2.  , 2.  , 2.  , 0.  , 1.  , 0.  , 1.  ])"
      ]
     },
     "execution_count": 37,
     "metadata": {},
     "output_type": "execute_result"
    }
   ],
   "source": [
    "y_train_mcar"
   ]
  },
  {
   "cell_type": "code",
   "execution_count": null,
   "metadata": {},
   "outputs": [],
   "source": []
  }
 ],
 "metadata": {
  "kernelspec": {
   "display_name": "base",
   "language": "python",
   "name": "python3"
  },
  "language_info": {
   "codemirror_mode": {
    "name": "ipython",
    "version": 3
   },
   "file_extension": ".py",
   "mimetype": "text/x-python",
   "name": "python",
   "nbconvert_exporter": "python",
   "pygments_lexer": "ipython3",
   "version": "3.10.6"
  },
  "orig_nbformat": 4
 },
 "nbformat": 4,
 "nbformat_minor": 2
}
